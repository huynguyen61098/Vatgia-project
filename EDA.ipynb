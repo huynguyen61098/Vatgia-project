{
 "cells": [
  {
   "cell_type": "markdown",
   "metadata": {},
   "source": [
    "## Phân tích bảng dữ liệu mẫu lấy từ trang web vatgia.com"
   ]
  },
  {
   "cell_type": "code",
   "execution_count": 1,
   "metadata": {},
   "outputs": [],
   "source": [
    "#import các packages cần thiết.\n",
    "import pandas as pd\n",
    "import numpy as np\n",
    "import re\n",
    "import matplotlib.pyplot as plt\n",
    "import seaborn as sns\n",
    "%matplotlib inline"
   ]
  },
  {
   "cell_type": "code",
   "execution_count": 2,
   "metadata": {},
   "outputs": [],
   "source": [
    "#đọc file csv\n",
    "df = pd.read_csv(\"F:\\data learn/data6.csv\", encoding = \"utf8\")"
   ]
  },
  {
   "cell_type": "code",
   "execution_count": 3,
   "metadata": {},
   "outputs": [
    {
     "data": {
      "text/html": [
       "<div>\n",
       "<style scoped>\n",
       "    .dataframe tbody tr th:only-of-type {\n",
       "        vertical-align: middle;\n",
       "    }\n",
       "\n",
       "    .dataframe tbody tr th {\n",
       "        vertical-align: top;\n",
       "    }\n",
       "\n",
       "    .dataframe thead th {\n",
       "        text-align: right;\n",
       "    }\n",
       "</style>\n",
       "<table border=\"1\" class=\"dataframe\">\n",
       "  <thead>\n",
       "    <tr style=\"text-align: right;\">\n",
       "      <th></th>\n",
       "      <th>name</th>\n",
       "      <th>price</th>\n",
       "      <th>stars rate</th>\n",
       "      <th>reviews</th>\n",
       "    </tr>\n",
       "  </thead>\n",
       "  <tbody>\n",
       "    <tr>\n",
       "      <th>0</th>\n",
       "      <td>Fujifilm Finepix Hs30exr / Hs33exr</td>\n",
       "      <td>7.000.000</td>\n",
       "      <td>3.8</td>\n",
       "      <td>4 đánh giá</td>\n",
       "    </tr>\n",
       "    <tr>\n",
       "      <th>1</th>\n",
       "      <td>Nikon Coolpix P7000</td>\n",
       "      <td>5.950.000</td>\n",
       "      <td>5.0</td>\n",
       "      <td>1 đánh giá</td>\n",
       "    </tr>\n",
       "    <tr>\n",
       "      <th>2</th>\n",
       "      <td>Panasonic Lumix Dmc-ts4 / Ft4</td>\n",
       "      <td>5.200.000</td>\n",
       "      <td>4.0</td>\n",
       "      <td>1 đánh giá</td>\n",
       "    </tr>\n",
       "    <tr>\n",
       "      <th>3</th>\n",
       "      <td>Máy ảnh Canon Ixus 190 Black</td>\n",
       "      <td>3.500.000</td>\n",
       "      <td>4.5</td>\n",
       "      <td>2 đánh giá</td>\n",
       "    </tr>\n",
       "    <tr>\n",
       "      <th>4</th>\n",
       "      <td>Sony Cybershot Dsc-h300 (Cũ)</td>\n",
       "      <td>2.300.000</td>\n",
       "      <td>4.3</td>\n",
       "      <td>12 đánh giá</td>\n",
       "    </tr>\n",
       "  </tbody>\n",
       "</table>\n",
       "</div>"
      ],
      "text/plain": [
       "                                 name      price  stars rate      reviews\n",
       "0  Fujifilm Finepix Hs30exr / Hs33exr  7.000.000         3.8   4 đánh giá\n",
       "1                 Nikon Coolpix P7000  5.950.000         5.0   1 đánh giá\n",
       "2       Panasonic Lumix Dmc-ts4 / Ft4  5.200.000         4.0   1 đánh giá\n",
       "3        Máy ảnh Canon Ixus 190 Black  3.500.000         4.5   2 đánh giá\n",
       "4        Sony Cybershot Dsc-h300 (Cũ)  2.300.000         4.3  12 đánh giá"
      ]
     },
     "execution_count": 3,
     "metadata": {},
     "output_type": "execute_result"
    }
   ],
   "source": [
    "#cùng xem 5 dòng đầu bảng dữ liệu.\n",
    "df.head()"
   ]
  },
  {
   "cell_type": "code",
   "execution_count": 4,
   "metadata": {},
   "outputs": [
    {
     "data": {
      "text/plain": [
       "(1056, 4)"
      ]
     },
     "execution_count": 4,
     "metadata": {},
     "output_type": "execute_result"
    }
   ],
   "source": [
    "#bảng dữ liệu của chúng ta có 1056 dòng và 4 cột.\n",
    "df.shape"
   ]
  },
  {
   "cell_type": "code",
   "execution_count": 5,
   "metadata": {},
   "outputs": [
    {
     "data": {
      "text/plain": [
       "name            0\n",
       "price         162\n",
       "stars rate    282\n",
       "reviews       282\n",
       "dtype: int64"
      ]
     },
     "execution_count": 5,
     "metadata": {},
     "output_type": "execute_result"
    }
   ],
   "source": [
    "#xem dữ liệu của chúng ta có chứa nan values không.\n",
    "df.isnull().sum()"
   ]
  },
  {
   "cell_type": "code",
   "execution_count": 6,
   "metadata": {},
   "outputs": [],
   "source": [
    "#bỏ các dòng có chứa nan values.\n",
    "df.dropna(how=\"any\", axis = 0, inplace = True)"
   ]
  },
  {
   "cell_type": "code",
   "execution_count": 7,
   "metadata": {},
   "outputs": [
    {
     "data": {
      "text/html": [
       "<div>\n",
       "<style scoped>\n",
       "    .dataframe tbody tr th:only-of-type {\n",
       "        vertical-align: middle;\n",
       "    }\n",
       "\n",
       "    .dataframe tbody tr th {\n",
       "        vertical-align: top;\n",
       "    }\n",
       "\n",
       "    .dataframe thead th {\n",
       "        text-align: right;\n",
       "    }\n",
       "</style>\n",
       "<table border=\"1\" class=\"dataframe\">\n",
       "  <thead>\n",
       "    <tr style=\"text-align: right;\">\n",
       "      <th></th>\n",
       "      <th>name</th>\n",
       "      <th>price</th>\n",
       "      <th>stars rate</th>\n",
       "      <th>reviews</th>\n",
       "    </tr>\n",
       "  </thead>\n",
       "  <tbody>\n",
       "    <tr>\n",
       "      <th>0</th>\n",
       "      <td>Fujifilm Finepix Hs30exr / Hs33exr</td>\n",
       "      <td>7.000.000</td>\n",
       "      <td>3.8</td>\n",
       "      <td>4 đánh giá</td>\n",
       "    </tr>\n",
       "    <tr>\n",
       "      <th>1</th>\n",
       "      <td>Nikon Coolpix P7000</td>\n",
       "      <td>5.950.000</td>\n",
       "      <td>5.0</td>\n",
       "      <td>1 đánh giá</td>\n",
       "    </tr>\n",
       "    <tr>\n",
       "      <th>2</th>\n",
       "      <td>Panasonic Lumix Dmc-ts4 / Ft4</td>\n",
       "      <td>5.200.000</td>\n",
       "      <td>4.0</td>\n",
       "      <td>1 đánh giá</td>\n",
       "    </tr>\n",
       "    <tr>\n",
       "      <th>3</th>\n",
       "      <td>Máy ảnh Canon Ixus 190 Black</td>\n",
       "      <td>3.500.000</td>\n",
       "      <td>4.5</td>\n",
       "      <td>2 đánh giá</td>\n",
       "    </tr>\n",
       "    <tr>\n",
       "      <th>4</th>\n",
       "      <td>Sony Cybershot Dsc-h300 (Cũ)</td>\n",
       "      <td>2.300.000</td>\n",
       "      <td>4.3</td>\n",
       "      <td>12 đánh giá</td>\n",
       "    </tr>\n",
       "    <tr>\n",
       "      <th>5</th>\n",
       "      <td>Canon Powershot A3300 Is - Mỹ / Canada</td>\n",
       "      <td>1.700.000</td>\n",
       "      <td>4.4</td>\n",
       "      <td>32 đánh giá</td>\n",
       "    </tr>\n",
       "    <tr>\n",
       "      <th>7</th>\n",
       "      <td>Sony Cybershot Dsc-rx100 (Cũ)</td>\n",
       "      <td>4.500.000</td>\n",
       "      <td>3.7</td>\n",
       "      <td>3 đánh giá</td>\n",
       "    </tr>\n",
       "    <tr>\n",
       "      <th>8</th>\n",
       "      <td>Canon Powershot A3200 Is - Mỹ / Canada (Cũ)</td>\n",
       "      <td>900.000</td>\n",
       "      <td>3.9</td>\n",
       "      <td>56 đánh giá</td>\n",
       "    </tr>\n",
       "    <tr>\n",
       "      <th>10</th>\n",
       "      <td>Sony Cyber-shot Dsc - Rx100m3</td>\n",
       "      <td>6.900.000</td>\n",
       "      <td>4.0</td>\n",
       "      <td>2 đánh giá</td>\n",
       "    </tr>\n",
       "    <tr>\n",
       "      <th>11</th>\n",
       "      <td>Canon Ixus 117 Hs - Châu âu</td>\n",
       "      <td>3.200.000</td>\n",
       "      <td>5.0</td>\n",
       "      <td>1 đánh giá</td>\n",
       "    </tr>\n",
       "  </tbody>\n",
       "</table>\n",
       "</div>"
      ],
      "text/plain": [
       "                                           name      price  stars rate  \\\n",
       "0            Fujifilm Finepix Hs30exr / Hs33exr  7.000.000         3.8   \n",
       "1                           Nikon Coolpix P7000  5.950.000         5.0   \n",
       "2                 Panasonic Lumix Dmc-ts4 / Ft4  5.200.000         4.0   \n",
       "3                  Máy ảnh Canon Ixus 190 Black  3.500.000         4.5   \n",
       "4                  Sony Cybershot Dsc-h300 (Cũ)  2.300.000         4.3   \n",
       "5        Canon Powershot A3300 Is - Mỹ / Canada  1.700.000         4.4   \n",
       "7                 Sony Cybershot Dsc-rx100 (Cũ)  4.500.000         3.7   \n",
       "8   Canon Powershot A3200 Is - Mỹ / Canada (Cũ)    900.000         3.9   \n",
       "10                Sony Cyber-shot Dsc - Rx100m3  6.900.000         4.0   \n",
       "11                  Canon Ixus 117 Hs - Châu âu  3.200.000         5.0   \n",
       "\n",
       "        reviews  \n",
       "0    4 đánh giá  \n",
       "1    1 đánh giá  \n",
       "2    1 đánh giá  \n",
       "3    2 đánh giá  \n",
       "4   12 đánh giá  \n",
       "5   32 đánh giá  \n",
       "7    3 đánh giá  \n",
       "8   56 đánh giá  \n",
       "10   2 đánh giá  \n",
       "11   1 đánh giá  "
      ]
     },
     "execution_count": 7,
     "metadata": {},
     "output_type": "execute_result"
    }
   ],
   "source": [
    "df.head(10)"
   ]
  },
  {
   "cell_type": "code",
   "execution_count": 8,
   "metadata": {},
   "outputs": [
    {
     "data": {
      "text/plain": [
       "name          0\n",
       "price         0\n",
       "stars rate    0\n",
       "reviews       0\n",
       "dtype: int64"
      ]
     },
     "execution_count": 8,
     "metadata": {},
     "output_type": "execute_result"
    }
   ],
   "source": [
    "#cùng nhìn lại, ta thấy bảng của chúng ta không còn nan values nào.\n",
    "df.isnull().sum()"
   ]
  },
  {
   "cell_type": "code",
   "execution_count": 9,
   "metadata": {},
   "outputs": [
    {
     "name": "stdout",
     "output_type": "stream",
     "text": [
      "<class 'pandas.core.frame.DataFrame'>\n",
      "Int64Index: 774 entries, 0 to 1046\n",
      "Data columns (total 4 columns):\n",
      " #   Column      Non-Null Count  Dtype  \n",
      "---  ------      --------------  -----  \n",
      " 0   name        774 non-null    object \n",
      " 1   price       774 non-null    object \n",
      " 2   stars rate  774 non-null    float64\n",
      " 3   reviews     774 non-null    object \n",
      "dtypes: float64(1), object(3)\n",
      "memory usage: 30.2+ KB\n"
     ]
    }
   ],
   "source": [
    "#ta thấy 2 cột \"price\" và \"reviews\" vẫn ở dạng object, nên chúng ta sẽ xử lí ở dưới.\n",
    "df.info()"
   ]
  },
  {
   "cell_type": "code",
   "execution_count": 10,
   "metadata": {},
   "outputs": [],
   "source": [
    "#chúng ta sử dụng 1 function để chiết suất phần dữ liệu số từ cột \"reviews\".\n",
    "def find_number(text):\n",
    "    num = re.findall(r'[0-9]+',text)\n",
    "    return \" \".join(num)\n",
    "#và sử dụng nó trực tiếp lên cột \"reviews\"\n",
    "df['no_reviews']=df['reviews'].apply(lambda x: find_number(x))"
   ]
  },
  {
   "cell_type": "code",
   "execution_count": 11,
   "metadata": {},
   "outputs": [],
   "source": [
    "#sau khi có cột \"no_reviews\", chúng ta không cần đến cột \"reviews\" ban đầu nữa.\n",
    "df.drop([\"reviews\"], axis =1, inplace = True)"
   ]
  },
  {
   "cell_type": "code",
   "execution_count": 12,
   "metadata": {},
   "outputs": [
    {
     "data": {
      "text/html": [
       "<div>\n",
       "<style scoped>\n",
       "    .dataframe tbody tr th:only-of-type {\n",
       "        vertical-align: middle;\n",
       "    }\n",
       "\n",
       "    .dataframe tbody tr th {\n",
       "        vertical-align: top;\n",
       "    }\n",
       "\n",
       "    .dataframe thead th {\n",
       "        text-align: right;\n",
       "    }\n",
       "</style>\n",
       "<table border=\"1\" class=\"dataframe\">\n",
       "  <thead>\n",
       "    <tr style=\"text-align: right;\">\n",
       "      <th></th>\n",
       "      <th>name</th>\n",
       "      <th>price</th>\n",
       "      <th>stars rate</th>\n",
       "      <th>no_reviews</th>\n",
       "    </tr>\n",
       "  </thead>\n",
       "  <tbody>\n",
       "    <tr>\n",
       "      <th>0</th>\n",
       "      <td>Fujifilm Finepix Hs30exr / Hs33exr</td>\n",
       "      <td>7.000.000</td>\n",
       "      <td>3.8</td>\n",
       "      <td>4</td>\n",
       "    </tr>\n",
       "    <tr>\n",
       "      <th>1</th>\n",
       "      <td>Nikon Coolpix P7000</td>\n",
       "      <td>5.950.000</td>\n",
       "      <td>5.0</td>\n",
       "      <td>1</td>\n",
       "    </tr>\n",
       "    <tr>\n",
       "      <th>2</th>\n",
       "      <td>Panasonic Lumix Dmc-ts4 / Ft4</td>\n",
       "      <td>5.200.000</td>\n",
       "      <td>4.0</td>\n",
       "      <td>1</td>\n",
       "    </tr>\n",
       "    <tr>\n",
       "      <th>3</th>\n",
       "      <td>Máy ảnh Canon Ixus 190 Black</td>\n",
       "      <td>3.500.000</td>\n",
       "      <td>4.5</td>\n",
       "      <td>2</td>\n",
       "    </tr>\n",
       "    <tr>\n",
       "      <th>4</th>\n",
       "      <td>Sony Cybershot Dsc-h300 (Cũ)</td>\n",
       "      <td>2.300.000</td>\n",
       "      <td>4.3</td>\n",
       "      <td>12</td>\n",
       "    </tr>\n",
       "  </tbody>\n",
       "</table>\n",
       "</div>"
      ],
      "text/plain": [
       "                                 name      price  stars rate no_reviews\n",
       "0  Fujifilm Finepix Hs30exr / Hs33exr  7.000.000         3.8          4\n",
       "1                 Nikon Coolpix P7000  5.950.000         5.0          1\n",
       "2       Panasonic Lumix Dmc-ts4 / Ft4  5.200.000         4.0          1\n",
       "3        Máy ảnh Canon Ixus 190 Black  3.500.000         4.5          2\n",
       "4        Sony Cybershot Dsc-h300 (Cũ)  2.300.000         4.3         12"
      ]
     },
     "execution_count": 12,
     "metadata": {},
     "output_type": "execute_result"
    }
   ],
   "source": [
    "df.head()"
   ]
  },
  {
   "cell_type": "code",
   "execution_count": 13,
   "metadata": {},
   "outputs": [
    {
     "data": {
      "text/plain": [
       "Liên hệ gian hàng    181\n",
       "1.900.000             27\n",
       "5.500.000             26\n",
       "1.500.000             25\n",
       "3.300.000             23\n",
       "                    ... \n",
       "2.350.000              1\n",
       "1.350.000              1\n",
       "5.050.000              1\n",
       "650.000                1\n",
       "2.120.000              1\n",
       "Name: price, Length: 135, dtype: int64"
      ]
     },
     "execution_count": 13,
     "metadata": {},
     "output_type": "execute_result"
    }
   ],
   "source": [
    "#cùng nhìn qua các đơn giá có trong cột \"price\".\n",
    "df.price.value_counts()"
   ]
  },
  {
   "cell_type": "code",
   "execution_count": 14,
   "metadata": {},
   "outputs": [],
   "source": [
    "#chúng ta sẽ bỏ các dòng có đơn giá không xác định\n",
    "drop_index = df.price[df.price ==\"Liên hệ gian hàng\"].index"
   ]
  },
  {
   "cell_type": "code",
   "execution_count": 15,
   "metadata": {},
   "outputs": [],
   "source": [
    "df.drop(drop_index,axis =0,inplace = True)"
   ]
  },
  {
   "cell_type": "code",
   "execution_count": 16,
   "metadata": {},
   "outputs": [
    {
     "data": {
      "text/plain": [
       "(593, 4)"
      ]
     },
     "execution_count": 16,
     "metadata": {},
     "output_type": "execute_result"
    }
   ],
   "source": [
    "#sau một vài bước xử lí, bảng của chúng ta chỉ còn 593 dòng, mình sẽ chỉ sử dụng từng đó dữ liệu trong bản phân tích lần này.\n",
    "df.shape"
   ]
  },
  {
   "cell_type": "code",
   "execution_count": 17,
   "metadata": {},
   "outputs": [],
   "source": [
    "#cùng xử lý để đưa 2 cột \"price\" và \"stars rate\" từ dạng object thành dạng float.\n",
    "df[\"price\"] = df[\"price\"].str.replace(\".\",\"\")\n",
    "df[\"price\"] = df[\"price\"].astype(\"float32\")\n",
    "df[\"stars rate\"] = df[\"stars rate\"].astype(\"float32\")"
   ]
  },
  {
   "cell_type": "code",
   "execution_count": 18,
   "metadata": {},
   "outputs": [],
   "source": [
    "df[\"no_reviews\"] = df[\"no_reviews\"].astype(\"float32\")"
   ]
  },
  {
   "cell_type": "code",
   "execution_count": 19,
   "metadata": {},
   "outputs": [
    {
     "name": "stdout",
     "output_type": "stream",
     "text": [
      "<class 'pandas.core.frame.DataFrame'>\n",
      "Int64Index: 593 entries, 0 to 1046\n",
      "Data columns (total 4 columns):\n",
      " #   Column      Non-Null Count  Dtype  \n",
      "---  ------      --------------  -----  \n",
      " 0   name        593 non-null    object \n",
      " 1   price       593 non-null    float32\n",
      " 2   stars rate  593 non-null    float32\n",
      " 3   no_reviews  593 non-null    float32\n",
      "dtypes: float32(3), object(1)\n",
      "memory usage: 16.2+ KB\n"
     ]
    }
   ],
   "source": [
    "#có thể thấy các số liệu của chúng ta đều được đưa về dạng float\n",
    "df.info()"
   ]
  },
  {
   "cell_type": "code",
   "execution_count": 20,
   "metadata": {},
   "outputs": [],
   "source": [
    "#loại bỏ các dòng trùng lặp\n",
    "df.drop_duplicates(inplace = True)"
   ]
  },
  {
   "cell_type": "code",
   "execution_count": 21,
   "metadata": {},
   "outputs": [
    {
     "data": {
      "text/plain": [
       "(534, 4)"
      ]
     },
     "execution_count": 21,
     "metadata": {},
     "output_type": "execute_result"
    }
   ],
   "source": [
    "df.shape"
   ]
  },
  {
   "cell_type": "code",
   "execution_count": 22,
   "metadata": {},
   "outputs": [
    {
     "data": {
      "text/html": [
       "<div>\n",
       "<style scoped>\n",
       "    .dataframe tbody tr th:only-of-type {\n",
       "        vertical-align: middle;\n",
       "    }\n",
       "\n",
       "    .dataframe tbody tr th {\n",
       "        vertical-align: top;\n",
       "    }\n",
       "\n",
       "    .dataframe thead th {\n",
       "        text-align: right;\n",
       "    }\n",
       "</style>\n",
       "<table border=\"1\" class=\"dataframe\">\n",
       "  <thead>\n",
       "    <tr style=\"text-align: right;\">\n",
       "      <th></th>\n",
       "      <th>price</th>\n",
       "      <th>stars rate</th>\n",
       "      <th>no_reviews</th>\n",
       "    </tr>\n",
       "  </thead>\n",
       "  <tbody>\n",
       "    <tr>\n",
       "      <th>count</th>\n",
       "      <td>534.00</td>\n",
       "      <td>534.000000</td>\n",
       "      <td>534.000000</td>\n",
       "    </tr>\n",
       "    <tr>\n",
       "      <th>mean</th>\n",
       "      <td>3928367.00</td>\n",
       "      <td>4.269475</td>\n",
       "      <td>5.340824</td>\n",
       "    </tr>\n",
       "    <tr>\n",
       "      <th>std</th>\n",
       "      <td>3951335.25</td>\n",
       "      <td>0.542478</td>\n",
       "      <td>9.185188</td>\n",
       "    </tr>\n",
       "    <tr>\n",
       "      <th>min</th>\n",
       "      <td>600000.00</td>\n",
       "      <td>1.000000</td>\n",
       "      <td>1.000000</td>\n",
       "    </tr>\n",
       "    <tr>\n",
       "      <th>25%</th>\n",
       "      <td>1600000.00</td>\n",
       "      <td>4.000000</td>\n",
       "      <td>2.000000</td>\n",
       "    </tr>\n",
       "    <tr>\n",
       "      <th>50%</th>\n",
       "      <td>2800000.00</td>\n",
       "      <td>4.300000</td>\n",
       "      <td>3.000000</td>\n",
       "    </tr>\n",
       "    <tr>\n",
       "      <th>75%</th>\n",
       "      <td>4575000.00</td>\n",
       "      <td>4.700000</td>\n",
       "      <td>5.000000</td>\n",
       "    </tr>\n",
       "    <tr>\n",
       "      <th>max</th>\n",
       "      <td>37300000.00</td>\n",
       "      <td>5.000000</td>\n",
       "      <td>72.000000</td>\n",
       "    </tr>\n",
       "  </tbody>\n",
       "</table>\n",
       "</div>"
      ],
      "text/plain": [
       "             price  stars rate  no_reviews\n",
       "count       534.00  534.000000  534.000000\n",
       "mean    3928367.00    4.269475    5.340824\n",
       "std     3951335.25    0.542478    9.185188\n",
       "min      600000.00    1.000000    1.000000\n",
       "25%     1600000.00    4.000000    2.000000\n",
       "50%     2800000.00    4.300000    3.000000\n",
       "75%     4575000.00    4.700000    5.000000\n",
       "max    37300000.00    5.000000   72.000000"
      ]
     },
     "execution_count": 22,
     "metadata": {},
     "output_type": "execute_result"
    }
   ],
   "source": [
    "#cùng xem một số thông số từ bảng dữ liệu của chúng ta\n",
    "df.describe()"
   ]
  },
  {
   "cell_type": "code",
   "execution_count": 25,
   "metadata": {},
   "outputs": [
    {
     "data": {
      "image/png": "[encoded data removed]",
      "text/plain": [
       "<Figure size 432x288 with 1 Axes>"
      ]
     },
     "metadata": {
      "needs_background": "light"
     },
     "output_type": "display_data"
    }
   ],
   "source": [
    "#cùng vẽ biểu đồ histogram để theo dõi phân bổ đơn giá của các sản phẩm, có thể thấy đơn giá tập trung ở mức dưới 5 triệu đồng\n",
    "plt.hist(df.price)\n",
    "plt.xlabel(\"Price\")\n",
    "plt.show()"
   ]
  },
  {
   "cell_type": "code",
   "execution_count": 26,
   "metadata": {},
   "outputs": [],
   "source": [
    "#chúng ta cũng có thể chia nhỏ các đơn giá thành các khoảng nhỏ hơn\n",
    "range = [\"dưới 8 triệu\", \"8-15 triệu\", \"15-22 triệu\",\"22-30 triệu\",\"30-37 triệu\"]\n",
    "range_counts = pd.cut(df.price, 5, labels = range ).value_counts()"
   ]
  },
  {
   "cell_type": "code",
   "execution_count": 27,
   "metadata": {},
   "outputs": [
    {
     "data": {
      "image/png": "[encoded data removed]",
      "text/plain": [
       "<Figure size 432x288 with 1 Axes>"
      ]
     },
     "metadata": {
      "needs_background": "light"
     },
     "output_type": "display_data"
    }
   ],
   "source": [
    "plt.bar(range, height =range_counts)\n",
    "plt.xlabel(\"Khoảng giá tiền-VNĐ\")\n",
    "plt.ylabel(\"số lượng sản phẩm\")\n",
    "plt.title(\"Số lượng sản phẩm theo khoảng giá\")\n",
    "plt.show()"
   ]
  },
  {
   "cell_type": "code",
   "execution_count": 28,
   "metadata": {},
   "outputs": [],
   "source": [
    "#cùng xem một số sản phẩm có lượt đánh giá cao nhất\n",
    "most_reviews_product = [df[\"name\"].groupby(df[\"no_reviews\"]).agg(\"max\")]"
   ]
  },
  {
   "cell_type": "code",
   "execution_count": 29,
   "metadata": {},
   "outputs": [
    {
     "data": {
      "text/plain": [
       "no_reviews\n",
       "1.0                                       Sony Ilce-5100l\n",
       "2.0                   Sony Cybershot Rx10 Iv - Dsc-rx10m4\n",
       "3.0                              Sony Cybershot Dsc-wx300\n",
       "4.0                         Sony Cybershot Dsc-wx200 Back\n",
       "5.0                         Sony Cybershot Dsc-wx150 (Cũ)\n",
       "6.0                               Sony Cybershot Dsc-w810\n",
       "7.0     Sony Cybershot Dsc-wx50 (bc E32/ Pc E32/ Sc E3...\n",
       "8.0     Sony Cybershot Dsc-w630 (bc E32/ Nc E32/ Pc E3...\n",
       "9.0                               Sony Cybershot Dsc-tx55\n",
       "10.0                        Sony Cybershot Dsc-w830 Black\n",
       "11.0                             Nikon Coolpix S2600 (Cũ)\n",
       "12.0    Sony Cybershot Dsc-w670 (bc E32/ Lc E32/ Pc E3...\n",
       "14.0        Canon Powershot G1 X / G1x - Mỹ / Canada (Cũ)\n",
       "16.0             Canon Powershot S5 Is - Mỹ / Canada (Cũ)\n",
       "17.0                         Canon Powershot G7 X Mark Ii\n",
       "18.0                          Fujifilm Finepix S2980 (Cũ)\n",
       "20.0           Canon Powershot Sx40 Hs - Mỹ / Canada (Cũ)\n",
       "23.0               Canon Powershot A4000 Is - Mỹ / Canada\n",
       "25.0                Canon Powershot Sx50 Hs - Mỹ / Canada\n",
       "29.0               Canon Powershot Sx500 Is - Mỹ / Canada\n",
       "30.0                              Nikon Coolpix L120 (Cũ)\n",
       "32.0               Canon Powershot A3300 Is - Mỹ / Canada\n",
       "33.0    Canon Powershot Sd1300 Is (ixus 105 Is / Ixy D...\n",
       "34.0              Canon Powershot A810 - Mỹ / Canada (Cũ)\n",
       "35.0                         Sony Cybershot Dsc-w530 (Cũ)\n",
       "40.0                                  Nikon Coolpix S2500\n",
       "44.0                         Sony Cybershot Dsc-w510 (Cũ)\n",
       "56.0                   Canon Powershot S100 - Mỹ / Canada\n",
       "70.0           Canon Powershot Sx30 Is - Mỹ / Canada (Cũ)\n",
       "72.0               Canon Powershot G12 - Mỹ / Canada (Cũ)\n",
       "Name: name, dtype: object"
      ]
     },
     "execution_count": 29,
     "metadata": {},
     "output_type": "execute_result"
    }
   ],
   "source": [
    "most_reviews_product[0]"
   ]
  },
  {
   "cell_type": "code",
   "execution_count": 30,
   "metadata": {},
   "outputs": [
    {
     "name": "stdout",
     "output_type": "stream",
     "text": [
      "The average star for product with reviews more than 30: 4.12666654586792\n",
      "The average star for product with reviews less than 30: 4.273938179016113\n"
     ]
    }
   ],
   "source": [
    "#cùng xem điểm đánh giá trung bình đối với các sản phẩm có trên và dưới 30 lượt đánh giá lần lượt.\n",
    "max_reviews = df.loc[df[\"no_reviews\"]>30][\"stars rate\"].mean()\n",
    "min_reviews = df.loc[df[\"no_reviews\"]<30][\"stars rate\"].mean()\n",
    "print(f\"The average star for product with reviews more than 30: {max_reviews}\")\n",
    "print(f\"The average star for product with reviews less than 30: {min_reviews}\")\n"
   ]
  },
  {
   "cell_type": "code",
   "execution_count": 31,
   "metadata": {},
   "outputs": [
    {
     "data": {
      "text/plain": [
       "stars rate\n",
       "1.0    1600000.000\n",
       "2.0    1300000.000\n",
       "2.3    1200000.000\n",
       "2.5    4066666.750\n",
       "3.0    2117058.750\n",
       "3.1    1200000.000\n",
       "3.3    1783333.375\n",
       "3.4    1000000.000\n",
       "3.5    2139333.250\n",
       "3.6    2755555.500\n",
       "3.7    2750000.000\n",
       "3.8    3084615.500\n",
       "3.9    1433333.375\n",
       "4.0    3342553.250\n",
       "4.1    3880769.250\n",
       "4.2    3228571.500\n",
       "4.3    3570800.000\n",
       "4.4    3490909.000\n",
       "4.5    5513318.000\n",
       "4.6    4984615.500\n",
       "4.7    5685625.000\n",
       "4.8    3375833.250\n",
       "5.0    4736305.500\n",
       "Name: price, dtype: float32"
      ]
     },
     "execution_count": 31,
     "metadata": {},
     "output_type": "execute_result"
    }
   ],
   "source": [
    "#cùng xem với các điểm \"sao\" nhận được, thì các sản phẩm sẽ có giá trung bình là bao nhiêu?\n",
    "df[\"price\"].groupby(df[\"stars rate\"]).agg(\"mean\")"
   ]
  },
  {
   "cell_type": "code",
   "execution_count": 33,
   "metadata": {
    "scrolled": true
   },
   "outputs": [
    {
     "data": {
      "text/html": [
       "<div>\n",
       "<style scoped>\n",
       "    .dataframe tbody tr th:only-of-type {\n",
       "        vertical-align: middle;\n",
       "    }\n",
       "\n",
       "    .dataframe tbody tr th {\n",
       "        vertical-align: top;\n",
       "    }\n",
       "\n",
       "    .dataframe thead th {\n",
       "        text-align: right;\n",
       "    }\n",
       "</style>\n",
       "<table border=\"1\" class=\"dataframe\">\n",
       "  <thead>\n",
       "    <tr style=\"text-align: right;\">\n",
       "      <th></th>\n",
       "      <th>price</th>\n",
       "      <th>stars rate</th>\n",
       "      <th>no_reviews</th>\n",
       "    </tr>\n",
       "  </thead>\n",
       "  <tbody>\n",
       "    <tr>\n",
       "      <th>price</th>\n",
       "      <td>1.000000</td>\n",
       "      <td>0.211244</td>\n",
       "      <td>-0.089659</td>\n",
       "    </tr>\n",
       "    <tr>\n",
       "      <th>stars rate</th>\n",
       "      <td>0.211244</td>\n",
       "      <td>1.000000</td>\n",
       "      <td>-0.061655</td>\n",
       "    </tr>\n",
       "    <tr>\n",
       "      <th>no_reviews</th>\n",
       "      <td>-0.089659</td>\n",
       "      <td>-0.061655</td>\n",
       "      <td>1.000000</td>\n",
       "    </tr>\n",
       "  </tbody>\n",
       "</table>\n",
       "</div>"
      ],
      "text/plain": [
       "               price  stars rate  no_reviews\n",
       "price       1.000000    0.211244   -0.089659\n",
       "stars rate  0.211244    1.000000   -0.061655\n",
       "no_reviews -0.089659   -0.061655    1.000000"
      ]
     },
     "execution_count": 33,
     "metadata": {},
     "output_type": "execute_result"
    }
   ],
   "source": [
    "#cùng xem các số liệu cột có mối quan hệ tương quan nào không?\n",
    "usecol = df.drop([\"name\"], axis =1)\n",
    "usecol.corr()"
   ]
  },
  {
   "cell_type": "code",
   "execution_count": 34,
   "metadata": {},
   "outputs": [
    {
     "data": {
      "image/png": "[encoded data removed]",
      "text/plain": [
       "<Figure size 540x540 with 12 Axes>"
      ]
     },
     "metadata": {
      "needs_background": "light"
     },
     "output_type": "display_data"
    }
   ],
   "source": [
    "#sử dụng biểu đồ để dễ quan sát hơn\n",
    "sns.pairplot(usecol, kind = \"reg\")\n",
    "plt.show()"
   ]
  },
  {
   "cell_type": "code",
   "execution_count": null,
   "metadata": {},
   "outputs": [],
   "source": []
  }
 ],
 "metadata": {
  "kernelspec": {
   "display_name": "Python 3",
   "language": "python",
   "name": "python3"
  },
  "language_info": {
   "codemirror_mode": {
    "name": "ipython",
    "version": 3
   },
   "file_extension": ".py",
   "mimetype": "text/x-python",
   "name": "python",
   "nbconvert_exporter": "python",
   "pygments_lexer": "ipython3",
   "version": "3.8.5"
  }
 },
 "nbformat": 4,
 "nbformat_minor": 4
}
